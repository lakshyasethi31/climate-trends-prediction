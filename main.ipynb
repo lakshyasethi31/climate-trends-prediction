{
 "cells": [
  {
   "cell_type": "code",
   "execution_count": null,
   "id": "8e2f2208",
   "metadata": {},
   "outputs": [],
   "source": [
    "import pandas as pd\n",
    "import numpy as np\n",
    "import matplotlib.pyplot as plt\n",
    "import seaborn as sns\n",
    "from sklearn import linear_model\n",
    "from datetime import datetime\n",
    "from scipy import stats\n",
    "from sklearn.preprocessing import PolynomialFeatures"
   ]
  },
  {
   "cell_type": "code",
   "execution_count": null,
   "id": "c4b15bf8",
   "metadata": {},
   "outputs": [],
   "source": [
    "rain = pd.read_excel(r\"C:\\Users\\laksh\\OneDrive\\rainfall.xlsx\")\n",
    "temp = pd.read_excel(r\"C:\\Users\\laksh\\OneDrive\\temperature.xlsx\")\n",
    "\n",
    "# temp['YEAR'].astype('str')\n",
    "# temp['Year'] = pd.to_datetime(temp['YEAR'], format = \"%Y\")\n",
    "\n",
    "# rain['YEAR'].astype('str')\n",
    "# rain['Year'] = pd.to_datetime(rain['YEAR'], format = \"%Y\")"
   ]
  },
  {
   "cell_type": "code",
   "execution_count": null,
   "id": "c6c35527",
   "metadata": {
    "scrolled": true
   },
   "outputs": [],
   "source": [
    "def temp_predict():\n",
    "    data = temp[['YEAR', 'ANNUAL']]\n",
    "    print(data)\n",
    "    X = data.iloc[:, :-1].values\n",
    "    y = data.iloc[:, -1].values\n",
    "    from sklearn.model_selection import train_test_split \n",
    "    X_train, X_test, y_train, y_test = train_test_split(X, y, test_size=0.15, random_state=0)\n",
    "\n",
    "    reg = linear_model.LinearRegression()\n",
    "    reg.fit(X,y)\n",
    "    \n",
    "    def viz_linear():\n",
    "        plt.scatter(X_train, y_train, color = 'red')\n",
    "        plt.plot(X_train, reg.predict(X_train), color = 'blue')\n",
    "        plt.xlabel('Year')\n",
    "        plt.title('Temperature from 1901-2019')\n",
    "        plt.ylabel('Annual Temperature')\n",
    "        plt.show()\n",
    "\n",
    "    poly_reg = PolynomialFeatures(degree=4)\n",
    "    X_poly = poly_reg.fit_transform(X)\n",
    "    pol_reg = linear_model.LinearRegression()\n",
    "    pol_reg.fit(X_poly, y)\n",
    "\n",
    "    # Visualizing the Polymonial Regression results\n",
    "    def viz_polymonial():\n",
    "        plt.scatter(X, y, color='orange')\n",
    "        plt.plot(X, pol_reg.predict(poly_reg.fit_transform(X)), color='black')\n",
    "        plt.title('Temperature from 1901-2019')\n",
    "        plt.xlabel('Year')\n",
    "        plt.ylabel('Annual Temperature')\n",
    "        plt.show()\n",
    "        return\n",
    "    viz_linear()\n",
    "    viz_polymonial()\n",
    "    test = int(input(\"Enter the year for which you want the predicted value: \"))\n",
    "    print(pol_reg.predict(poly_reg.fit_transform([[test]])))"
   ]
  },
  {
   "cell_type": "code",
   "execution_count": null,
   "id": "42e646a1",
   "metadata": {},
   "outputs": [],
   "source": [
    "temp_predict()"
   ]
  },
  {
   "cell_type": "code",
   "execution_count": null,
   "id": "0d19f7f4",
   "metadata": {},
   "outputs": [],
   "source": [
    "def rain_predict():\n",
    "    print('You have the option to choose from the following subdivision keywords: \\n')\n",
    "    for i in rain['SUBDIVISION'].unique():\n",
    "        print(i)\n",
    "\n",
    "    subd = str(input('Enter the subdivision for which data is required: '))\n",
    "    dt_rain = rain.loc[rain['SUBDIVISION'] == subd, ['YEAR', 'ANNUAL']]\n",
    "    dt_rain\n",
    "\n",
    "    X1 = dt_rain.iloc[:, :-1].values\n",
    "    y1 = dt_rain.iloc[:, -1].values\n",
    "    from sklearn.model_selection import train_test_split \n",
    "    X1_train, X1_test, y1_train, y1_test = train_test_split(X1, y1, test_size=0.15, random_state=0)\n",
    "\n",
    "    reg1 = linear_model.LinearRegression()\n",
    "    reg1.fit(X1,y1)\n",
    "    \n",
    "    def viz_linear1():\n",
    "        plt.scatter(X1_train, y1_train, color = 'red')\n",
    "        plt.plot(X1_train, reg1.predict(X1_train), color = 'blue')\n",
    "        plt.xlabel('Year')\n",
    "        plt.ylabel('Annual Rainfall')\n",
    "        plt.show()\n",
    "\n",
    "    poly_reg1 = PolynomialFeatures(degree=4)\n",
    "    X1_poly = poly_reg1.fit_transform(X1)\n",
    "    pol_reg1 = linear_model.LinearRegression()\n",
    "    pol_reg1.fit(X1_poly, y1)\n",
    "\n",
    "    # Visualizing the Polymonial Regression results\n",
    "    def viz_polymonial1():\n",
    "        plt.scatter(X1, y1, color='orange')\n",
    "        plt.plot(X1, pol_reg1.predict(poly_reg1.fit_transform(X1)), color='black')\n",
    "        plt.title('Temperature from 1901-2019')\n",
    "        plt.xlabel('Year')\n",
    "        plt.ylabel('Annual Rainfall')\n",
    "        plt.show()\n",
    "        return\n",
    "    viz_linear1()\n",
    "    viz_polymonial1()\n",
    "    test_rain = int(input(\"Enter the year for which you want the predicted value: \"))\n",
    "    print(pol_reg1.predict(poly_reg1.fit_transform([[test_rain]])))"
   ]
  },
  {
   "cell_type": "code",
   "execution_count": null,
   "id": "62188ba1",
   "metadata": {},
   "outputs": [],
   "source": [
    "def temp_show():\n",
    "    a = int(input('Enter the year for which data is required: '))\n",
    "    data = temp.loc[temp['YEAR'] == a]\n",
    "    data = data[['YEAR', 'JAN', 'FEB', 'MAR', 'APR', 'JUN', 'JUL', 'AUG', 'SEP', 'OCT', 'NOV', 'DEC', 'ANNUAL']]\n",
    "    display(data)\n",
    "    plot_temp_data = data[['JAN', 'FEB', 'MAR', 'APR', 'JUN', 'JUL', 'AUG', 'SEP', 'OCT', 'NOV', 'DEC']]\n",
    "    plot_temp_data.plot.bar()"
   ]
  },
  {
   "cell_type": "code",
   "execution_count": null,
   "id": "f7e48512",
   "metadata": {},
   "outputs": [],
   "source": [
    "def rain_show():\n",
    "    print('You have the option to choose from the following subdivision keywords: \\n')\n",
    "    for i in rain['SUBDIVISION'].unique():\n",
    "        print(i)\n",
    "\n",
    "    sub = str(input('Enter the subdivision for which data is required: '))\n",
    "    data_rain = rain.loc[rain['SUBDIVISION'] == sub]\n",
    "    data_rain\n",
    "    b = int(input('Enter the year for which data is required: '))\n",
    "    data_rain = data_rain[data_rain['YEAR']==b]\n",
    "    data_rain = data_rain[['YEAR', 'JAN', 'FEB', 'MAR', 'APR', 'JUN', 'JUL', 'AUG', 'SEP', 'OCT', 'NOV', 'DEC', 'ANNUAL']]\n",
    "    display(data_rain)\n",
    "    plot_data = data_rain[['JAN', 'FEB', 'MAR', 'APR', 'JUN', 'JUL', 'AUG', 'SEP', 'OCT', 'NOV', 'DEC']]\n",
    "    plot_data.plot.bar()"
   ]
  },
  {
   "cell_type": "markdown",
   "id": "cccdc565",
   "metadata": {},
   "source": [
    "<font size=\"5\">MAIN FUNCTION</font>"
   ]
  },
  {
   "cell_type": "code",
   "execution_count": null,
   "id": "ec781aad",
   "metadata": {},
   "outputs": [],
   "source": [
    "print('Select your operation:\\n 1. Show Temperature Data\\n 2. Show Rainfall Data\\n 3. Predict Temperature Data\\n 4. Predict Rainfall Data')\n",
    "ans = int(input('Enter your choice: '))\n",
    "print('\\n')\n",
    "if ans == 1:\n",
    "    temp_show()\n",
    "elif ans == 2:\n",
    "    rain_show()\n",
    "elif ans == 3:\n",
    "    temp_predict()\n",
    "elif ans == 4:\n",
    "    rain_predict()\n",
    "else:\n",
    "    print('Invalid input')"
   ]
  }
 ],
 "metadata": {
  "kernelspec": {
   "display_name": "Python 3",
   "language": "python",
   "name": "python3"
  },
  "language_info": {
   "codemirror_mode": {
    "name": "ipython",
    "version": 3
   },
   "file_extension": ".py",
   "mimetype": "text/x-python",
   "name": "python",
   "nbconvert_exporter": "python",
   "pygments_lexer": "ipython3",
   "version": "3.8.8"
  }
 },
 "nbformat": 4,
 "nbformat_minor": 5
}
